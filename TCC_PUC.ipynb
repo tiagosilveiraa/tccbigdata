{
  "nbformat": 4,
  "nbformat_minor": 0,
  "metadata": {
    "colab": {
      "name": "TCC PUC.ipynb",
      "provenance": [],
      "toc_visible": true,
      "collapsed_sections": [],
      "include_colab_link": true
    },
    "kernelspec": {
      "name": "python3",
      "display_name": "Python 3"
    },
    "language_info": {
      "name": "python"
    }
  },
  "cells": [
    {
      "cell_type": "markdown",
      "metadata": {
        "id": "view-in-github",
        "colab_type": "text"
      },
      "source": [
        "<a href=\"https://colab.research.google.com/github/tiagosilveiraa/tccbigdata/blob/main/TCC_PUC.ipynb\" target=\"_parent\"><img src=\"https://colab.research.google.com/assets/colab-badge.svg\" alt=\"Open In Colab\"/></a>"
      ]
    },
    {
      "cell_type": "markdown",
      "source": [
        "# Importação de Bibliotecas\n"
      ],
      "metadata": {
        "id": "hK-BJwuzMciH"
      }
    },
    {
      "cell_type": "code",
      "source": [
        "!pip install unidecode"
      ],
      "metadata": {
        "colab": {
          "base_uri": "https://localhost:8080/"
        },
        "id": "Zhpmog9xhBy-",
        "outputId": "cc80c69f-6a5d-4930-f42d-7bcacb1d08a0"
      },
      "execution_count": 80,
      "outputs": [
        {
          "output_type": "stream",
          "name": "stdout",
          "text": [
            "Requirement already satisfied: unidecode in /usr/local/lib/python3.7/dist-packages (1.3.3)\n"
          ]
        }
      ]
    },
    {
      "cell_type": "code",
      "execution_count": 81,
      "metadata": {
        "id": "arFzaG24MbJY"
      },
      "outputs": [],
      "source": [
        "import pandas as pd\n",
        "import numpy as np\n",
        "import requests \n",
        "from bs4 import BeautifulSoup\n",
        "from unidecode import unidecode\n",
        "import unicodedata"
      ]
    },
    {
      "cell_type": "markdown",
      "source": [
        "# 1 - Coleta de dados\n",
        "Inicialmente vamos carregar o dataset do Censo com os dados da pesquisa. Optei por hospedar o dataset no github para garantir a disponibilidade do mesmo, além disto minimizei os cabeçalhos para uma melhor manipulação dos dados.\n",
        "\n",
        "O Link original do dataset é: https://pcrj.maps.arcgis.com/sharing/rest/content/items/97d55e185d114698ac5472f6f1c43758/data"
      ],
      "metadata": {
        "id": "eZZFKiv6MgsW"
      }
    },
    {
      "cell_type": "code",
      "source": [
        "base_censo = pd.read_excel('https://github.com/tiagosilveiraa/tccbigdata/raw/main/Dados_Censo_PopRua_2020.xlsx', sheet_name=1)\n",
        "base_censo = base_censo.rename(str.lower, axis='columns')"
      ],
      "metadata": {
        "id": "DoOBKMv2MmOl",
        "colab": {
          "base_uri": "https://localhost:8080/"
        },
        "outputId": "f1ec1fc2-5c2e-4140-e6e5-844fc55065eb"
      },
      "execution_count": 82,
      "outputs": [
        {
          "output_type": "stream",
          "name": "stderr",
          "text": [
            "/usr/local/lib/python3.7/dist-packages/openpyxl/worksheet/header_footer.py:48: UserWarning: Cannot parse header or footer so it will be ignored\n",
            "  warn(\"\"\"Cannot parse header or footer so it will be ignored\"\"\")\n"
          ]
        }
      ]
    },
    {
      "cell_type": "markdown",
      "source": [
        "Para enriquecer os nossos dados vamos montar outro dataset descrevendo as regiões do Rio de Janeiro (Zonas)."
      ],
      "metadata": {
        "id": "GUw9aW3IU13u"
      }
    },
    {
      "cell_type": "code",
      "source": [
        "page = requests.get('https://pt.wikipedia.org/wiki/Lista_de_bairros_do_Rio_de_Janeiro_por_%C3%8Dndice_de_Desenvolvimento_Social')"
      ],
      "metadata": {
        "id": "lXJXYypkU1jq"
      },
      "execution_count": 83,
      "outputs": []
    },
    {
      "cell_type": "code",
      "source": [
        "soup = BeautifulSoup(page.content, 'html.parser', from_encoding=\"utf-8\")\n",
        "tabela = soup.find('table', class_='wikitable')\n",
        "linhas = tabela.findChildren(['tr'])"
      ],
      "metadata": {
        "id": "gs63k6Hk5Nti"
      },
      "execution_count": 84,
      "outputs": []
    },
    {
      "cell_type": "code",
      "source": [
        "const_zonas = ['NORTE', 'SUL', 'OESTE', 'CENTRAL']\n",
        "zonas = []\n",
        "bairros = []\n",
        "for linha in linhas:\n",
        "  links = linha.find_all('a')\n",
        "  for link in links:\n",
        "    txt_link = link.get_text().replace('Zona ', '').upper()\n",
        "    if (txt_link in const_zonas):  \n",
        "      zonas.append(txt_link)  \n",
        "    else:\n",
        "      #Alguns bairros estão com dois espaços a mais.\n",
        "      bairros.append(txt_link.replace('  ', ' '))"
      ],
      "metadata": {
        "id": "AYjSacqU6prn"
      },
      "execution_count": 85,
      "outputs": []
    },
    {
      "cell_type": "code",
      "source": [
        "base_zonas = pd.DataFrame(list(zip(zonas, bairros)), columns=[\"zona\", 'bairro'])"
      ],
      "metadata": {
        "id": "3WCsb0Ue0QuT"
      },
      "execution_count": 86,
      "outputs": []
    },
    {
      "cell_type": "markdown",
      "source": [
        "# 2 - Tratamento de Dados\n",
        "Nesta etapa iremos fazer o tratamento de dados e a junção entre os dados das regiões e dos bairros transformando tudo em um único dataset.\n",
        "\n"
      ],
      "metadata": {
        "id": "AwT01ox8DtC9"
      }
    },
    {
      "cell_type": "code",
      "source": [
        "df_censo = pd.DataFrame(base_censo)\n",
        "df_zonas = pd.DataFrame(base_zonas)"
      ],
      "metadata": {
        "id": "2diUaNR4FDBL"
      },
      "execution_count": 87,
      "outputs": []
    },
    {
      "cell_type": "markdown",
      "source": [
        "Removendo acentos e colocando letras em maiúsculo."
      ],
      "metadata": {
        "id": "TeODNhxjHPp3"
      }
    },
    {
      "cell_type": "code",
      "source": [
        "df_censo = df_censo.applymap(lambda s: unidecode(s.upper()) if type(s) == str else s)\n",
        "df_zonas = df_zonas.applymap(lambda s: unidecode(s.upper()) if type(s) == str else s)"
      ],
      "metadata": {
        "id": "CNmN95XfFHJx"
      },
      "execution_count": 88,
      "outputs": []
    },
    {
      "cell_type": "markdown",
      "source": [
        "# 2.1 - Verificando se existem bairros no censo que não estão no dataframe de zonas"
      ],
      "metadata": {
        "id": "uxswnmNTAXI6"
      }
    },
    {
      "cell_type": "code",
      "source": [
        "bairros_censo = pd.DataFrame(np.unique(df_censo['bairro']), columns=['bairro'])\n",
        "diff = bairros_censo.merge(df_zonas['bairro'], on='bairro', how=\"outer\", indicator=True).drop_duplicates(keep=False)\n",
        "diff.loc[diff['_merge']=='left_only']"
      ],
      "metadata": {
        "colab": {
          "base_uri": "https://localhost:8080/",
          "height": 175
        },
        "id": "hNqDhQ8L1O9R",
        "outputId": "dfcfd9d3-a8a3-430d-9ae3-e767e9120d40"
      },
      "execution_count": 89,
      "outputs": [
        {
          "output_type": "execute_result",
          "data": {
            "text/html": [
              "\n",
              "  <div id=\"df-cc4a8b23-7a42-41c7-bf8c-d5daa591c705\">\n",
              "    <div class=\"colab-df-container\">\n",
              "      <div>\n",
              "<style scoped>\n",
              "    .dataframe tbody tr th:only-of-type {\n",
              "        vertical-align: middle;\n",
              "    }\n",
              "\n",
              "    .dataframe tbody tr th {\n",
              "        vertical-align: top;\n",
              "    }\n",
              "\n",
              "    .dataframe thead th {\n",
              "        text-align: right;\n",
              "    }\n",
              "</style>\n",
              "<table border=\"1\" class=\"dataframe\">\n",
              "  <thead>\n",
              "    <tr style=\"text-align: right;\">\n",
              "      <th></th>\n",
              "      <th>bairro</th>\n",
              "      <th>_merge</th>\n",
              "    </tr>\n",
              "  </thead>\n",
              "  <tbody>\n",
              "    <tr>\n",
              "      <th>66</th>\n",
              "      <td>LAPA</td>\n",
              "      <td>left_only</td>\n",
              "    </tr>\n",
              "    <tr>\n",
              "      <th>70</th>\n",
              "      <td>LINS DE VASCONCELOS</td>\n",
              "      <td>left_only</td>\n",
              "    </tr>\n",
              "    <tr>\n",
              "      <th>130</th>\n",
              "      <td>VILA KENNEDY</td>\n",
              "      <td>left_only</td>\n",
              "    </tr>\n",
              "    <tr>\n",
              "      <th>131</th>\n",
              "      <td>VILA KOSMOS</td>\n",
              "      <td>left_only</td>\n",
              "    </tr>\n",
              "  </tbody>\n",
              "</table>\n",
              "</div>\n",
              "      <button class=\"colab-df-convert\" onclick=\"convertToInteractive('df-cc4a8b23-7a42-41c7-bf8c-d5daa591c705')\"\n",
              "              title=\"Convert this dataframe to an interactive table.\"\n",
              "              style=\"display:none;\">\n",
              "        \n",
              "  <svg xmlns=\"http://www.w3.org/2000/svg\" height=\"24px\"viewBox=\"0 0 24 24\"\n",
              "       width=\"24px\">\n",
              "    <path d=\"M0 0h24v24H0V0z\" fill=\"none\"/>\n",
              "    <path d=\"M18.56 5.44l.94 2.06.94-2.06 2.06-.94-2.06-.94-.94-2.06-.94 2.06-2.06.94zm-11 1L8.5 8.5l.94-2.06 2.06-.94-2.06-.94L8.5 2.5l-.94 2.06-2.06.94zm10 10l.94 2.06.94-2.06 2.06-.94-2.06-.94-.94-2.06-.94 2.06-2.06.94z\"/><path d=\"M17.41 7.96l-1.37-1.37c-.4-.4-.92-.59-1.43-.59-.52 0-1.04.2-1.43.59L10.3 9.45l-7.72 7.72c-.78.78-.78 2.05 0 2.83L4 21.41c.39.39.9.59 1.41.59.51 0 1.02-.2 1.41-.59l7.78-7.78 2.81-2.81c.8-.78.8-2.07 0-2.86zM5.41 20L4 18.59l7.72-7.72 1.47 1.35L5.41 20z\"/>\n",
              "  </svg>\n",
              "      </button>\n",
              "      \n",
              "  <style>\n",
              "    .colab-df-container {\n",
              "      display:flex;\n",
              "      flex-wrap:wrap;\n",
              "      gap: 12px;\n",
              "    }\n",
              "\n",
              "    .colab-df-convert {\n",
              "      background-color: #E8F0FE;\n",
              "      border: none;\n",
              "      border-radius: 50%;\n",
              "      cursor: pointer;\n",
              "      display: none;\n",
              "      fill: #1967D2;\n",
              "      height: 32px;\n",
              "      padding: 0 0 0 0;\n",
              "      width: 32px;\n",
              "    }\n",
              "\n",
              "    .colab-df-convert:hover {\n",
              "      background-color: #E2EBFA;\n",
              "      box-shadow: 0px 1px 2px rgba(60, 64, 67, 0.3), 0px 1px 3px 1px rgba(60, 64, 67, 0.15);\n",
              "      fill: #174EA6;\n",
              "    }\n",
              "\n",
              "    [theme=dark] .colab-df-convert {\n",
              "      background-color: #3B4455;\n",
              "      fill: #D2E3FC;\n",
              "    }\n",
              "\n",
              "    [theme=dark] .colab-df-convert:hover {\n",
              "      background-color: #434B5C;\n",
              "      box-shadow: 0px 1px 3px 1px rgba(0, 0, 0, 0.15);\n",
              "      filter: drop-shadow(0px 1px 2px rgba(0, 0, 0, 0.3));\n",
              "      fill: #FFFFFF;\n",
              "    }\n",
              "  </style>\n",
              "\n",
              "      <script>\n",
              "        const buttonEl =\n",
              "          document.querySelector('#df-cc4a8b23-7a42-41c7-bf8c-d5daa591c705 button.colab-df-convert');\n",
              "        buttonEl.style.display =\n",
              "          google.colab.kernel.accessAllowed ? 'block' : 'none';\n",
              "\n",
              "        async function convertToInteractive(key) {\n",
              "          const element = document.querySelector('#df-cc4a8b23-7a42-41c7-bf8c-d5daa591c705');\n",
              "          const dataTable =\n",
              "            await google.colab.kernel.invokeFunction('convertToInteractive',\n",
              "                                                     [key], {});\n",
              "          if (!dataTable) return;\n",
              "\n",
              "          const docLinkHtml = 'Like what you see? Visit the ' +\n",
              "            '<a target=\"_blank\" href=https://colab.research.google.com/notebooks/data_table.ipynb>data table notebook</a>'\n",
              "            + ' to learn more about interactive tables.';\n",
              "          element.innerHTML = '';\n",
              "          dataTable['output_type'] = 'display_data';\n",
              "          await google.colab.output.renderOutput(dataTable, element);\n",
              "          const docLink = document.createElement('div');\n",
              "          docLink.innerHTML = docLinkHtml;\n",
              "          element.appendChild(docLink);\n",
              "        }\n",
              "      </script>\n",
              "    </div>\n",
              "  </div>\n",
              "  "
            ],
            "text/plain": [
              "                  bairro     _merge\n",
              "66                  LAPA  left_only\n",
              "70   LINS DE VASCONCELOS  left_only\n",
              "130         VILA KENNEDY  left_only\n",
              "131          VILA KOSMOS  left_only"
            ]
          },
          "metadata": {},
          "execution_count": 89
        }
      ]
    },
    {
      "cell_type": "markdown",
      "source": [
        "# 2.1.1 - Corrigindo diferenças de escritta do dataframe de zonas"
      ],
      "metadata": {
        "id": "eP6xuFhJIZ-R"
      }
    },
    {
      "cell_type": "code",
      "source": [
        "df_zonas.loc[df_zonas['bairro'] == 'LINS DE VASCONCELLOS', 'bairro'] = 'LINS DE VASCONCELOS'\n",
        "df_zonas.loc[df_zonas['bairro'] == 'VILA COSMOS', 'bairro'] = 'VILA KOSMOS'"
      ],
      "metadata": {
        "id": "su-GPloLDyal"
      },
      "execution_count": 90,
      "outputs": []
    },
    {
      "cell_type": "markdown",
      "source": [
        "# 2.1.2 - Incluindo dois bairros ausentes no dataset de zonas."
      ],
      "metadata": {
        "id": "3F5TPeSJIe9_"
      }
    },
    {
      "cell_type": "code",
      "source": [
        "bairros_faltantes = [\n",
        "    {\n",
        "        'zona':'CENTRAL',\n",
        "        'bairro':'LAPA'\n",
        "    },\n",
        "    {\n",
        "        'zona':'NORTE',\n",
        "        'bairro':'VILA KENNEDY'\n",
        "    }\n",
        "]\n",
        "df_zonas = df_zonas.append(bairros_faltantes, ignore_index=True)"
      ],
      "metadata": {
        "id": "icZjW-nRIeNc"
      },
      "execution_count": 91,
      "outputs": []
    },
    {
      "cell_type": "markdown",
      "source": [
        "Checando se ainda existe algum bairro presente na lista do censo e que não consta na relação de bairros com zonas classificadas."
      ],
      "metadata": {
        "id": "cuuuypBpWrZJ"
      }
    },
    {
      "cell_type": "code",
      "source": [
        "bairros_censo = pd.DataFrame(np.unique(df_censo['bairro']), columns=['bairro'])\n",
        "diff = bairros_censo.merge(df_zonas['bairro'], on='bairro', how=\"outer\", indicator=True).drop_duplicates(keep=False)\n",
        "diff.loc[diff['_merge']=='left_only']"
      ],
      "metadata": {
        "colab": {
          "base_uri": "https://localhost:8080/",
          "height": 49
        },
        "id": "7ZBrJPZaJ_2w",
        "outputId": "02066efb-23cb-47d7-c4c6-707898733a8b"
      },
      "execution_count": 92,
      "outputs": [
        {
          "output_type": "execute_result",
          "data": {
            "text/html": [
              "\n",
              "  <div id=\"df-82329359-c8b9-418c-958f-324cda8ad138\">\n",
              "    <div class=\"colab-df-container\">\n",
              "      <div>\n",
              "<style scoped>\n",
              "    .dataframe tbody tr th:only-of-type {\n",
              "        vertical-align: middle;\n",
              "    }\n",
              "\n",
              "    .dataframe tbody tr th {\n",
              "        vertical-align: top;\n",
              "    }\n",
              "\n",
              "    .dataframe thead th {\n",
              "        text-align: right;\n",
              "    }\n",
              "</style>\n",
              "<table border=\"1\" class=\"dataframe\">\n",
              "  <thead>\n",
              "    <tr style=\"text-align: right;\">\n",
              "      <th></th>\n",
              "      <th>bairro</th>\n",
              "      <th>_merge</th>\n",
              "    </tr>\n",
              "  </thead>\n",
              "  <tbody>\n",
              "  </tbody>\n",
              "</table>\n",
              "</div>\n",
              "      <button class=\"colab-df-convert\" onclick=\"convertToInteractive('df-82329359-c8b9-418c-958f-324cda8ad138')\"\n",
              "              title=\"Convert this dataframe to an interactive table.\"\n",
              "              style=\"display:none;\">\n",
              "        \n",
              "  <svg xmlns=\"http://www.w3.org/2000/svg\" height=\"24px\"viewBox=\"0 0 24 24\"\n",
              "       width=\"24px\">\n",
              "    <path d=\"M0 0h24v24H0V0z\" fill=\"none\"/>\n",
              "    <path d=\"M18.56 5.44l.94 2.06.94-2.06 2.06-.94-2.06-.94-.94-2.06-.94 2.06-2.06.94zm-11 1L8.5 8.5l.94-2.06 2.06-.94-2.06-.94L8.5 2.5l-.94 2.06-2.06.94zm10 10l.94 2.06.94-2.06 2.06-.94-2.06-.94-.94-2.06-.94 2.06-2.06.94z\"/><path d=\"M17.41 7.96l-1.37-1.37c-.4-.4-.92-.59-1.43-.59-.52 0-1.04.2-1.43.59L10.3 9.45l-7.72 7.72c-.78.78-.78 2.05 0 2.83L4 21.41c.39.39.9.59 1.41.59.51 0 1.02-.2 1.41-.59l7.78-7.78 2.81-2.81c.8-.78.8-2.07 0-2.86zM5.41 20L4 18.59l7.72-7.72 1.47 1.35L5.41 20z\"/>\n",
              "  </svg>\n",
              "      </button>\n",
              "      \n",
              "  <style>\n",
              "    .colab-df-container {\n",
              "      display:flex;\n",
              "      flex-wrap:wrap;\n",
              "      gap: 12px;\n",
              "    }\n",
              "\n",
              "    .colab-df-convert {\n",
              "      background-color: #E8F0FE;\n",
              "      border: none;\n",
              "      border-radius: 50%;\n",
              "      cursor: pointer;\n",
              "      display: none;\n",
              "      fill: #1967D2;\n",
              "      height: 32px;\n",
              "      padding: 0 0 0 0;\n",
              "      width: 32px;\n",
              "    }\n",
              "\n",
              "    .colab-df-convert:hover {\n",
              "      background-color: #E2EBFA;\n",
              "      box-shadow: 0px 1px 2px rgba(60, 64, 67, 0.3), 0px 1px 3px 1px rgba(60, 64, 67, 0.15);\n",
              "      fill: #174EA6;\n",
              "    }\n",
              "\n",
              "    [theme=dark] .colab-df-convert {\n",
              "      background-color: #3B4455;\n",
              "      fill: #D2E3FC;\n",
              "    }\n",
              "\n",
              "    [theme=dark] .colab-df-convert:hover {\n",
              "      background-color: #434B5C;\n",
              "      box-shadow: 0px 1px 3px 1px rgba(0, 0, 0, 0.15);\n",
              "      filter: drop-shadow(0px 1px 2px rgba(0, 0, 0, 0.3));\n",
              "      fill: #FFFFFF;\n",
              "    }\n",
              "  </style>\n",
              "\n",
              "      <script>\n",
              "        const buttonEl =\n",
              "          document.querySelector('#df-82329359-c8b9-418c-958f-324cda8ad138 button.colab-df-convert');\n",
              "        buttonEl.style.display =\n",
              "          google.colab.kernel.accessAllowed ? 'block' : 'none';\n",
              "\n",
              "        async function convertToInteractive(key) {\n",
              "          const element = document.querySelector('#df-82329359-c8b9-418c-958f-324cda8ad138');\n",
              "          const dataTable =\n",
              "            await google.colab.kernel.invokeFunction('convertToInteractive',\n",
              "                                                     [key], {});\n",
              "          if (!dataTable) return;\n",
              "\n",
              "          const docLinkHtml = 'Like what you see? Visit the ' +\n",
              "            '<a target=\"_blank\" href=https://colab.research.google.com/notebooks/data_table.ipynb>data table notebook</a>'\n",
              "            + ' to learn more about interactive tables.';\n",
              "          element.innerHTML = '';\n",
              "          dataTable['output_type'] = 'display_data';\n",
              "          await google.colab.output.renderOutput(dataTable, element);\n",
              "          const docLink = document.createElement('div');\n",
              "          docLink.innerHTML = docLinkHtml;\n",
              "          element.appendChild(docLink);\n",
              "        }\n",
              "      </script>\n",
              "    </div>\n",
              "  </div>\n",
              "  "
            ],
            "text/plain": [
              "Empty DataFrame\n",
              "Columns: [bairro, _merge]\n",
              "Index: []"
            ]
          },
          "metadata": {},
          "execution_count": 92
        }
      ]
    },
    {
      "cell_type": "markdown",
      "source": [
        "# 2.1.3 - Unindo os dados dos dois datasets"
      ],
      "metadata": {
        "id": "Gx88eaR5W4Yz"
      }
    },
    {
      "cell_type": "code",
      "source": [
        "for i, r in df_zonas.iterrows():\n",
        "  df_censo.loc[df_censo['bairro'] == r['bairro'], 'zona'] = r['zona']"
      ],
      "metadata": {
        "id": "-irT9Bk5VsYS"
      },
      "execution_count": 93,
      "outputs": []
    },
    {
      "cell_type": "code",
      "source": [
        "df_censo.loc[df_censo['zona'].isnull()]"
      ],
      "metadata": {
        "colab": {
          "base_uri": "https://localhost:8080/",
          "height": 143
        },
        "id": "uYPSsojUJ_Ty",
        "outputId": "e9f08ef0-7c97-4515-b829-37d49809bd47"
      },
      "execution_count": 94,
      "outputs": [
        {
          "output_type": "execute_result",
          "data": {
            "text/html": [
              "\n",
              "  <div id=\"df-9e1e9aef-daa2-4aeb-abfd-8eb3dedf688c\">\n",
              "    <div class=\"colab-df-container\">\n",
              "      <div>\n",
              "<style scoped>\n",
              "    .dataframe tbody tr th:only-of-type {\n",
              "        vertical-align: middle;\n",
              "    }\n",
              "\n",
              "    .dataframe tbody tr th {\n",
              "        vertical-align: top;\n",
              "    }\n",
              "\n",
              "    .dataframe thead th {\n",
              "        text-align: right;\n",
              "    }\n",
              "</style>\n",
              "<table border=\"1\" class=\"dataframe\">\n",
              "  <thead>\n",
              "    <tr style=\"text-align: right;\">\n",
              "      <th></th>\n",
              "      <th>id</th>\n",
              "      <th>rua_acolhimento</th>\n",
              "      <th>local_da_coleta_de_dados</th>\n",
              "      <th>unidade_de_acolhimento_us</th>\n",
              "      <th>metodo</th>\n",
              "      <th>turno</th>\n",
              "      <th>data</th>\n",
              "      <th>bairro</th>\n",
              "      <th>ap</th>\n",
              "      <th>codigo_da_rp</th>\n",
              "      <th>rp</th>\n",
              "      <th>codigo_da_ra</th>\n",
              "      <th>ra</th>\n",
              "      <th>latitude</th>\n",
              "      <th>longitude</th>\n",
              "      <th>situacao_entrevista</th>\n",
              "      <th>motivo_situacao_impossivel</th>\n",
              "      <th>dormiu_na_rua_ultimos_7_dias</th>\n",
              "      <th>respondeu_ao_questionario</th>\n",
              "      <th>questionario_de_observacao</th>\n",
              "      <th>idade</th>\n",
              "      <th>faixa_etaria</th>\n",
              "      <th>classificacao_idade</th>\n",
              "      <th>faixa_etaria_observada</th>\n",
              "      <th>sexo</th>\n",
              "      <th>genero</th>\n",
              "      <th>cor_raca</th>\n",
              "      <th>deficiencia_caminhar_ou_degraus</th>\n",
              "      <th>deficiencia_enxergar</th>\n",
              "      <th>deficiencia_ouvir</th>\n",
              "      <th>deficiencia_mental</th>\n",
              "      <th>deficiencia_nao_possui</th>\n",
              "      <th>deficiencia_ns_nr</th>\n",
              "      <th>documento_certidao_de_nascimento</th>\n",
              "      <th>documento_cpf</th>\n",
              "      <th>documento_carteira_de_identidade</th>\n",
              "      <th>documento_carteira_de_trabalho</th>\n",
              "      <th>documento_titulo_de_eleitor</th>\n",
              "      <th>documento_passaporte</th>\n",
              "      <th>documento_red</th>\n",
              "      <th>...</th>\n",
              "      <th>outras_fontes_auxilio_doenca</th>\n",
              "      <th>outras_fontes_aht_aluguel_social</th>\n",
              "      <th>outras_fontes_outros</th>\n",
              "      <th>outras_fontes_nao_recebe</th>\n",
              "      <th>outras_fontes_ns/nr</th>\n",
              "      <th>gravidez</th>\n",
              "      <th>acompanhamento_pre_natal</th>\n",
              "      <th>problema_saude_diabetes</th>\n",
              "      <th>problema_saude_pressao_alta</th>\n",
              "      <th>problema_saude_hiv_aids</th>\n",
              "      <th>problema_saude_sifilis_ou_ists</th>\n",
              "      <th>problema_saude_asma_bronq_pneum</th>\n",
              "      <th>problema_saude_tuberculose</th>\n",
              "      <th>problema_saude_cancer_tumores</th>\n",
              "      <th>problema_saude_hepatite</th>\n",
              "      <th>problema_saude_mental_epilepsia</th>\n",
              "      <th>problema_saude_lepra_outras</th>\n",
              "      <th>problema_saude_infeccao_urinaria</th>\n",
              "      <th>problema_saude_ferim_frat_outros</th>\n",
              "      <th>qual_unidade_saude_procura</th>\n",
              "      <th>faz_uso_drogas</th>\n",
              "      <th>drogas_tabaco</th>\n",
              "      <th>drogas_alcool</th>\n",
              "      <th>drogas_maconha_haxixe</th>\n",
              "      <th>drogas_crack_similares</th>\n",
              "      <th>drogas_cocaina</th>\n",
              "      <th>drogas_inalan_cola_solven_tiner</th>\n",
              "      <th>frequencia_tabaco</th>\n",
              "      <th>frequencia_alcool</th>\n",
              "      <th>frequencia_maconha/haxixe</th>\n",
              "      <th>frequencia_crack/similares</th>\n",
              "      <th>frequencia_cocaina</th>\n",
              "      <th>frequencia_inal_cola_solv_tiner</th>\n",
              "      <th>motivo_droga</th>\n",
              "      <th>motivo_local_uso_droga</th>\n",
              "      <th>sabe_ler_escrever</th>\n",
              "      <th>frequentou_escola</th>\n",
              "      <th>escolaridade</th>\n",
              "      <th>necessidade_sair_situacao</th>\n",
              "      <th>zona</th>\n",
              "    </tr>\n",
              "  </thead>\n",
              "  <tbody>\n",
              "  </tbody>\n",
              "</table>\n",
              "<p>0 rows × 132 columns</p>\n",
              "</div>\n",
              "      <button class=\"colab-df-convert\" onclick=\"convertToInteractive('df-9e1e9aef-daa2-4aeb-abfd-8eb3dedf688c')\"\n",
              "              title=\"Convert this dataframe to an interactive table.\"\n",
              "              style=\"display:none;\">\n",
              "        \n",
              "  <svg xmlns=\"http://www.w3.org/2000/svg\" height=\"24px\"viewBox=\"0 0 24 24\"\n",
              "       width=\"24px\">\n",
              "    <path d=\"M0 0h24v24H0V0z\" fill=\"none\"/>\n",
              "    <path d=\"M18.56 5.44l.94 2.06.94-2.06 2.06-.94-2.06-.94-.94-2.06-.94 2.06-2.06.94zm-11 1L8.5 8.5l.94-2.06 2.06-.94-2.06-.94L8.5 2.5l-.94 2.06-2.06.94zm10 10l.94 2.06.94-2.06 2.06-.94-2.06-.94-.94-2.06-.94 2.06-2.06.94z\"/><path d=\"M17.41 7.96l-1.37-1.37c-.4-.4-.92-.59-1.43-.59-.52 0-1.04.2-1.43.59L10.3 9.45l-7.72 7.72c-.78.78-.78 2.05 0 2.83L4 21.41c.39.39.9.59 1.41.59.51 0 1.02-.2 1.41-.59l7.78-7.78 2.81-2.81c.8-.78.8-2.07 0-2.86zM5.41 20L4 18.59l7.72-7.72 1.47 1.35L5.41 20z\"/>\n",
              "  </svg>\n",
              "      </button>\n",
              "      \n",
              "  <style>\n",
              "    .colab-df-container {\n",
              "      display:flex;\n",
              "      flex-wrap:wrap;\n",
              "      gap: 12px;\n",
              "    }\n",
              "\n",
              "    .colab-df-convert {\n",
              "      background-color: #E8F0FE;\n",
              "      border: none;\n",
              "      border-radius: 50%;\n",
              "      cursor: pointer;\n",
              "      display: none;\n",
              "      fill: #1967D2;\n",
              "      height: 32px;\n",
              "      padding: 0 0 0 0;\n",
              "      width: 32px;\n",
              "    }\n",
              "\n",
              "    .colab-df-convert:hover {\n",
              "      background-color: #E2EBFA;\n",
              "      box-shadow: 0px 1px 2px rgba(60, 64, 67, 0.3), 0px 1px 3px 1px rgba(60, 64, 67, 0.15);\n",
              "      fill: #174EA6;\n",
              "    }\n",
              "\n",
              "    [theme=dark] .colab-df-convert {\n",
              "      background-color: #3B4455;\n",
              "      fill: #D2E3FC;\n",
              "    }\n",
              "\n",
              "    [theme=dark] .colab-df-convert:hover {\n",
              "      background-color: #434B5C;\n",
              "      box-shadow: 0px 1px 3px 1px rgba(0, 0, 0, 0.15);\n",
              "      filter: drop-shadow(0px 1px 2px rgba(0, 0, 0, 0.3));\n",
              "      fill: #FFFFFF;\n",
              "    }\n",
              "  </style>\n",
              "\n",
              "      <script>\n",
              "        const buttonEl =\n",
              "          document.querySelector('#df-9e1e9aef-daa2-4aeb-abfd-8eb3dedf688c button.colab-df-convert');\n",
              "        buttonEl.style.display =\n",
              "          google.colab.kernel.accessAllowed ? 'block' : 'none';\n",
              "\n",
              "        async function convertToInteractive(key) {\n",
              "          const element = document.querySelector('#df-9e1e9aef-daa2-4aeb-abfd-8eb3dedf688c');\n",
              "          const dataTable =\n",
              "            await google.colab.kernel.invokeFunction('convertToInteractive',\n",
              "                                                     [key], {});\n",
              "          if (!dataTable) return;\n",
              "\n",
              "          const docLinkHtml = 'Like what you see? Visit the ' +\n",
              "            '<a target=\"_blank\" href=https://colab.research.google.com/notebooks/data_table.ipynb>data table notebook</a>'\n",
              "            + ' to learn more about interactive tables.';\n",
              "          element.innerHTML = '';\n",
              "          dataTable['output_type'] = 'display_data';\n",
              "          await google.colab.output.renderOutput(dataTable, element);\n",
              "          const docLink = document.createElement('div');\n",
              "          docLink.innerHTML = docLinkHtml;\n",
              "          element.appendChild(docLink);\n",
              "        }\n",
              "      </script>\n",
              "    </div>\n",
              "  </div>\n",
              "  "
            ],
            "text/plain": [
              "Empty DataFrame\n",
              "Columns: [id, rua_acolhimento, local_da_coleta_de_dados, unidade_de_acolhimento_us, metodo, turno, data, bairro, ap, codigo_da_rp, rp, codigo_da_ra, ra, latitude, longitude, situacao_entrevista, motivo_situacao_impossivel, dormiu_na_rua_ultimos_7_dias, respondeu_ao_questionario, questionario_de_observacao, idade, faixa_etaria, classificacao_idade, faixa_etaria_observada, sexo, genero, cor_raca, deficiencia_caminhar_ou_degraus, deficiencia_enxergar, deficiencia_ouvir, deficiencia_mental, deficiencia_nao_possui, deficiencia_ns_nr, documento_certidao_de_nascimento, documento_cpf, documento_carteira_de_identidade, documento_carteira_de_trabalho, documento_titulo_de_eleitor, documento_passaporte, documento_red, naturalidade, estado, municipio, voltar_cidade_natal, contato_familia, contato_familia_complemento, familia_dorme_rua_acolhimento, ha_criancas, residencia_fixa, residencia_fixa_complemento, dias_dormiu_rua_ultimos_30dias, motivo_dormir_rua, tempo_rua_rj, rua_inicio_coronavirus, motivo_rua_depois_coronavirus, ajuda_pandemia, ajuda_auxilio_emergencial, ajuda_alimentos, ajuda_itens_higiene, ajuda_mascaras_protecao, ajuda_oferta_lugares_higiene, ajuda_ns_nr, local_anterior_dormitorio, local_dormitorio, dormiu_rua_maioria_ultimos_7dias, lugar_7_dias, bairro_7_dias, dormiu_abrigo_prefeitura, dormiu_abrigo_quanto_tempo, dificuldade_abrigo, onde_estava_antes_acolhimento, abrigos_apresentam_problemas, principal_problema_abrigo, foi_atendido_cras, foi_atendido_creas, foi_atendido_centro_pop, foi_atendido_abordagem_social, foi_atendido_conselho_tutelar, foi_atendido_acolhimento, foi_atendido_central_de_recepcao, foi_atendido_hotel, foi_atendido_defensoria_publica, foi_atendido_nao_foi_atendido, foi_atendido_ns/nr, dificuldades_atendimento_servico, atividade_remunerada, atividade_realizada, recebe_outras_fontes_de_renda, outras_fontes_bolsa_familia, outras_fontes_aux_emergencial, outras_fontes_bpc, outras_fontes_aposentado_pensao, outras_fontes_auxilio_doenca, outras_fontes_aht_aluguel_social, outras_fontes_outros, outras_fontes_nao_recebe, outras_fontes_ns/nr, gravidez, acompanhamento_pre_natal, problema_saude_diabetes, ...]\n",
              "Index: []\n",
              "\n",
              "[0 rows x 132 columns]"
            ]
          },
          "metadata": {},
          "execution_count": 94
        }
      ]
    },
    {
      "cell_type": "markdown",
      "source": [
        "# 2.2 - Limpando registros desnecessários\n",
        "Para este estudo só são necessários os registros onde a pesquisa pode ser feita, sendo assim, iremos fazer a limpeza dos demais."
      ],
      "metadata": {
        "id": "YpiZiYAbePYJ"
      }
    },
    {
      "cell_type": "code",
      "source": [
        "df_clean = df_censo.loc[df_censo['situacao_entrevista'] == 'POSSIVEL']\n",
        "df_clean = df_clean.reset_index(drop=True)"
      ],
      "metadata": {
        "id": "2NQ-GK4SeO4O"
      },
      "execution_count": 101,
      "outputs": []
    },
    {
      "cell_type": "markdown",
      "source": [
        "# 2.3 - Tratamento de registros inválidos"
      ],
      "metadata": {
        "id": "wa3Doa1df0yo"
      }
    },
    {
      "cell_type": "markdown",
      "source": [
        "Buscando por colunas com registros inválidos (NaN)"
      ],
      "metadata": {
        "id": "9ApOVu1ulK57"
      }
    },
    {
      "cell_type": "code",
      "source": [
        "df_clean.columns[df_clean.isna().any()].tolist()"
      ],
      "metadata": {
        "colab": {
          "base_uri": "https://localhost:8080/"
        },
        "id": "pwlnHwAHWjUh",
        "outputId": "b8119beb-548c-417f-8dc2-ca0b75ac788e"
      },
      "execution_count": 102,
      "outputs": [
        {
          "output_type": "execute_result",
          "data": {
            "text/plain": [
              "['unidade_de_acolhimento_us',\n",
              " 'data',\n",
              " 'onde_estava_antes_acolhimento',\n",
              " 'abrigos_apresentam_problemas']"
            ]
          },
          "metadata": {},
          "execution_count": 102
        }
      ]
    },
    {
      "cell_type": "code",
      "source": [
        "df_clean['data'] = df_clean['data'].fillna('NAO INFORMADA')"
      ],
      "metadata": {
        "id": "DwTiM3wyhwBJ"
      },
      "execution_count": 103,
      "outputs": []
    },
    {
      "cell_type": "code",
      "source": [
        "np.unique(df_clean.loc[df_clean['unidade_de_acolhimento_us'].isna(), ['rua_acolhimento']])"
      ],
      "metadata": {
        "colab": {
          "base_uri": "https://localhost:8080/"
        },
        "id": "27X5VVzil-8H",
        "outputId": "2e281666-909f-4c22-88f8-b11ad098cf4d"
      },
      "execution_count": 104,
      "outputs": [
        {
          "output_type": "execute_result",
          "data": {
            "text/plain": [
              "array(['RUA'], dtype=object)"
            ]
          },
          "metadata": {},
          "execution_count": 104
        }
      ]
    },
    {
      "cell_type": "markdown",
      "source": [
        "Nota-se que todos as linhas onde os campos 'onde_estava_antes_acolhimento' e 'unidade_de_acolhimento_us' não estão preenchido são nas linhas onde o morador ainda não foi acolhido, por isso iremos fazer o preenchimento com a frase \"NAO ACOLHIDO\" "
      ],
      "metadata": {
        "id": "vVMO0gxfkvGr"
      }
    },
    {
      "cell_type": "code",
      "source": [
        "df_clean['onde_estava_antes_acolhimento'] = df_clean['onde_estava_antes_acolhimento'].fillna('NAO ACOLHIDO')\n",
        "df_clean['unidade_de_acolhimento_us'] = df_clean['unidade_de_acolhimento_us'].fillna('NAO ACOLHIDO')\n",
        "df_clean['unidade_de_acolhimento_us'] = df_clean['abrigos_apresentam_problemas'].fillna('NAO INFORMADO')"
      ],
      "metadata": {
        "id": "r8Z_fUz4msmQ"
      },
      "execution_count": 105,
      "outputs": []
    },
    {
      "cell_type": "markdown",
      "source": [
        "# 3 - Análise exploratória\n",
        "\n",
        "Perguntas que buscaremos respostas:\n"
      ],
      "metadata": {
        "id": "H7QYzGRDcUxB"
      }
    }
  ]
}